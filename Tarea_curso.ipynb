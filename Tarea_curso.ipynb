{
  "nbformat": 4,
  "nbformat_minor": 0,
  "metadata": {
    "colab": {
      "name": "Tarea curso.ipynb",
      "provenance": [],
      "collapsed_sections": [],
      "authorship_tag": "ABX9TyPhIJSw1l3XFzfjw1ogSaLs",
      "include_colab_link": true
    },
    "kernelspec": {
      "name": "python3",
      "display_name": "Python 3"
    }
  },
  "cells": [
    {
      "cell_type": "markdown",
      "metadata": {
        "id": "view-in-github",
        "colab_type": "text"
      },
      "source": [
        "<a href=\"https://colab.research.google.com/github/janeurieta/TallerPythonIntroCienciaDatos/blob/master/Tarea_curso.ipynb\" target=\"_parent\"><img src=\"https://colab.research.google.com/assets/colab-badge.svg\" alt=\"Open In Colab\"/></a>"
      ]
    },
    {
      "cell_type": "markdown",
      "metadata": {
        "id": "CMjQSJYFj3Vp"
      },
      "source": [
        "# Python básico para físicos\n",
        "## Valeria Yanet Urieta de la Cruz"
      ]
    },
    {
      "cell_type": "markdown",
      "metadata": {
        "id": "1b0laK1rj3Vp"
      },
      "source": [
        "### Problema [1](https://codeforces.com/problemset/problem/4/A):  **Sandía**\n",
        "\n"
      ]
    },
    {
      "cell_type": "code",
      "metadata": {
        "id": "_cLWcomw-Ncb",
        "outputId": "5c53f66e-7ee6-4784-9a38-132029cf1fd0",
        "colab": {
          "base_uri": "https://localhost:8080/"
        }
      },
      "source": [
        "def generaPares(m):\n",
        "  n=1\n",
        "  lista=[]\n",
        "  while n<=m:\n",
        "    lista.append(n*2)\n",
        "    n+=1\n",
        "  return lista\n",
        "print(generaPares(50))"
      ],
      "execution_count": 75,
      "outputs": [
        {
          "output_type": "stream",
          "text": [
            "[2, 4, 6, 8, 10, 12, 14, 16, 18, 20, 22, 24, 26, 28, 30, 32, 34, 36, 38, 40, 42, 44, 46, 48, 50, 52, 54, 56, 58, 60, 62, 64, 66, 68, 70, 72, 74, 76, 78, 80, 82, 84, 86, 88, 90, 92, 94, 96, 98, 100]\n"
          ],
          "name": "stdout"
        }
      ]
    },
    {
      "cell_type": "markdown",
      "metadata": {
        "id": "VqvPx5LbR5Qg"
      },
      "source": [
        "Dame el peso w de la sandia"
      ]
    },
    {
      "cell_type": "code",
      "metadata": {
        "id": "TVr-TIzyVn0J",
        "outputId": "8fbb4872-c988-43e7-a858-5d6c87dfc2b6",
        "colab": {
          "base_uri": "https://localhost:8080/"
        }
      },
      "source": [
        "print(\"Dame el peso w de la sandia\") "
      ],
      "execution_count": 79,
      "outputs": [
        {
          "output_type": "stream",
          "text": [
            "Dame el peso w de la sandia\n"
          ],
          "name": "stdout"
        }
      ]
    },
    {
      "cell_type": "code",
      "metadata": {
        "id": "z5cAB6XIRQyg",
        "outputId": "71ec6a14-78b0-4ca2-98d8-9a26b7011e9e",
        "colab": {
          "base_uri": "https://localhost:8080/"
        }
      },
      "source": [
        "w = 5 \n",
        "\n",
        "existe = w in generaPares(50) \n",
        "\n",
        "print(\"SI\".format(w, existe) ) "
      ],
      "execution_count": 87,
      "outputs": [
        {
          "output_type": "stream",
          "text": [
            "SI\n"
          ],
          "name": "stdout"
        }
      ]
    },
    {
      "cell_type": "code",
      "metadata": {
        "id": "0vvrYv_NRaAQ",
        "outputId": "0892256f-0f5a-4b52-b7fc-91843a741734",
        "colab": {
          "base_uri": "https://localhost:8080/"
        }
      },
      "source": [
        "w = 50\n",
        "if w in range(0, 101): # si w está en el rango 1 - 100\n",
        "    print(\"SI\")\n",
        "else:\n",
        "    print(\"NO\")"
      ],
      "execution_count": 88,
      "outputs": [
        {
          "output_type": "stream",
          "text": [
            "SI\n"
          ],
          "name": "stdout"
        }
      ]
    },
    {
      "cell_type": "markdown",
      "metadata": {
        "id": "3rp30PWhj3Vt"
      },
      "source": [
        "### Problema [2](https://codeforces.com/problemset/problem/339/A): **Ayuda Matemática**"
      ]
    },
    {
      "cell_type": "code",
      "metadata": {
        "id": "QknUM8nBVjvI"
      },
      "source": [
        "numeros = [1,3,1,1,1,3,2,2,3,1,1,2,3,1,3,2,1]"
      ],
      "execution_count": 82,
      "outputs": []
    },
    {
      "cell_type": "code",
      "metadata": {
        "id": "4-E_VTPNYgq7",
        "outputId": "c61c917b-4fa7-493d-cc7d-c7ac09bdf264",
        "colab": {
          "base_uri": "https://localhost:8080/"
        }
      },
      "source": [
        "numeros.sort()  \n",
        "print(numeros)"
      ],
      "execution_count": 85,
      "outputs": [
        {
          "output_type": "stream",
          "text": [
            "[1, 1, 1, 1, 1, 1, 1, 1, 2, 2, 2, 2, 3, 3, 3, 3, 3]\n"
          ],
          "name": "stdout"
        }
      ]
    },
    {
      "cell_type": "code",
      "metadata": {
        "id": "kHDtrZF-XL4x",
        "outputId": "3848f807-dd19-42e9-d677-3dda8ee2c9bf",
        "colab": {
          "base_uri": "https://localhost:8080/"
        }
      },
      "source": [
        "suma = sum(numeros)\n",
        "\n",
        "print(\"La suma de todos los elementos es \", suma)"
      ],
      "execution_count": 86,
      "outputs": [
        {
          "output_type": "stream",
          "text": [
            "La suma de todos los elementos es  31\n"
          ],
          "name": "stdout"
        }
      ]
    },
    {
      "cell_type": "markdown",
      "metadata": {
        "id": "0UCnv-7Wj3Vv"
      },
      "source": [
        "### Problema 3: **Mecánica cuántica**"
      ]
    },
    {
      "cell_type": "code",
      "metadata": {
        "id": "WhH9tv8_ikS0"
      },
      "source": [
        "import sympy as sp\n",
        "sp.init_printing()"
      ],
      "execution_count": 106,
      "outputs": []
    },
    {
      "cell_type": "markdown",
      "metadata": {
        "id": "viW0XiKlfsV0"
      },
      "source": [
        "Hallar el valor esperado de la energía para el sistema. "
      ]
    },
    {
      "cell_type": "code",
      "metadata": {
        "id": "bOYp32KHiYGz",
        "outputId": "52f254a7-7612-45c7-d3db-efd12795d4be",
        "colab": {
          "base_uri": "https://localhost:8080/",
          "height": 78
        }
      },
      "source": [
        "E_0 = sp.symbols('E_0',positive = True)\n",
        "\n",
        "H = E_0*sp.Matrix([[0,sp.I,0],\n",
        "              [-sp.I,0,0],\n",
        "              [0,0,-1]])\n",
        "H"
      ],
      "execution_count": 109,
      "outputs": [
        {
          "output_type": "execute_result",
          "data": {
            "text/latex": "$$\\left[\\begin{matrix}0 & i E_{0} & 0\\\\- i E_{0} & 0 & 0\\\\0 & 0 & - E_{0}\\end{matrix}\\right]$$",
            "text/plain": [
              "⎡  0    ⅈ⋅E₀   0 ⎤\n",
              "⎢                ⎥\n",
              "⎢-ⅈ⋅E₀   0     0 ⎥\n",
              "⎢                ⎥\n",
              "⎣  0     0    -E₀⎦"
            ]
          },
          "metadata": {
            "tags": []
          },
          "execution_count": 109
        }
      ]
    },
    {
      "cell_type": "code",
      "metadata": {
        "id": "nHtWckvBsn1E"
      },
      "source": [
        "from sympy.physics.quantum.dagger import Dagger\n"
      ],
      "execution_count": 111,
      "outputs": []
    },
    {
      "cell_type": "code",
      "metadata": {
        "id": "8gbssK7Trg73",
        "outputId": "929fe4f7-5f7d-4aee-8580-76a9b9d6846b",
        "colab": {
          "base_uri": "https://localhost:8080/"
        }
      },
      "source": [
        "H_conj = Dagger(H)\n",
        "H_conj == H"
      ],
      "execution_count": 112,
      "outputs": [
        {
          "output_type": "execute_result",
          "data": {
            "text/plain": [
              "True"
            ]
          },
          "metadata": {
            "tags": []
          },
          "execution_count": 112
        }
      ]
    },
    {
      "cell_type": "code",
      "metadata": {
        "id": "lTaQGgmFsyTb",
        "outputId": "7a21c73c-a152-4153-a495-83a6fb43995d",
        "colab": {
          "base_uri": "https://localhost:8080/",
          "height": 38
        }
      },
      "source": [
        "H.eigenvals()"
      ],
      "execution_count": 113,
      "outputs": [
        {
          "output_type": "execute_result",
          "data": {
            "image/png": "[encoded data removed]",
            "text/latex": "$$\\left \\{ - E_{0} : 2, \\quad E_{0} : 1\\right \\}$$",
            "text/plain": [
              "{-E₀: 2, E₀: 1}"
            ]
          },
          "metadata": {
            "tags": []
          },
          "execution_count": 113
        }
      ]
    },
    {
      "cell_type": "code",
      "metadata": {
        "id": "30NN3h4Os22s",
        "outputId": "faa2ee86-9370-49ab-98ed-e12f83c8fa00",
        "colab": {
          "base_uri": "https://localhost:8080/",
          "height": 38
        }
      },
      "source": [
        "H_ener = list(H.eigenvals().keys())\n",
        "H_ener\n"
      ],
      "execution_count": 114,
      "outputs": [
        {
          "output_type": "execute_result",
          "data": {
            "image/png": "[encoded data removed]",
            "text/latex": "$$\\left [ E_{0}, \\quad - E_{0}\\right ]$$",
            "text/plain": [
              "[E₀, -E₀]"
            ]
          },
          "metadata": {
            "tags": []
          },
          "execution_count": 114
        }
      ]
    },
    {
      "cell_type": "code",
      "metadata": {
        "id": "J1XbGb1ps63z",
        "outputId": "8cf0bd16-b970-40e2-9495-6bd38f9711bf",
        "colab": {
          "base_uri": "https://localhost:8080/",
          "height": 78
        }
      },
      "source": [
        "H.eigenvects()"
      ],
      "execution_count": 115,
      "outputs": [
        {
          "output_type": "execute_result",
          "data": {
            "text/latex": "$$\\left [ \\left ( - E_{0}, \\quad 2, \\quad \\left [ \\left[\\begin{matrix}- i\\\\1\\\\0\\end{matrix}\\right], \\quad \\left[\\begin{matrix}0\\\\0\\\\1\\end{matrix}\\right]\\right ]\\right ), \\quad \\left ( E_{0}, \\quad 1, \\quad \\left [ \\left[\\begin{matrix}i\\\\1\\\\0\\end{matrix}\\right]\\right ]\\right )\\right ]$$",
            "text/plain": [
              "⎡⎛        ⎡⎡-ⅈ⎤  ⎡0⎤⎤⎞  ⎛       ⎡⎡ⅈ⎤⎤⎞⎤\n",
              "⎢⎜        ⎢⎢  ⎥  ⎢ ⎥⎥⎟  ⎜       ⎢⎢ ⎥⎥⎟⎥\n",
              "⎢⎜-E₀, 2, ⎢⎢1 ⎥, ⎢0⎥⎥⎟, ⎜E₀, 1, ⎢⎢1⎥⎥⎟⎥\n",
              "⎢⎜        ⎢⎢  ⎥  ⎢ ⎥⎥⎟  ⎜       ⎢⎢ ⎥⎥⎟⎥\n",
              "⎣⎝        ⎣⎣0 ⎦  ⎣1⎦⎦⎠  ⎝       ⎣⎣0⎦⎦⎠⎦"
            ]
          },
          "metadata": {
            "tags": []
          },
          "execution_count": 115
        }
      ]
    },
    {
      "cell_type": "code",
      "metadata": {
        "id": "WSIgjBEks_jC",
        "outputId": "cc970065-d775-4864-f3f4-320444572fa4",
        "colab": {
          "base_uri": "https://localhost:8080/",
          "height": 78
        }
      },
      "source": [
        "aux1 = H.eigenvects()[0][2]\n",
        "aux2 = H.eigenvects()[1][2][0]\n",
        "\n",
        "H_vecp = [aux1,aux2]\n",
        "H_vecp"
      ],
      "execution_count": 116,
      "outputs": [
        {
          "output_type": "execute_result",
          "data": {
            "text/latex": "$$\\left [ \\left [ \\left[\\begin{matrix}- i\\\\1\\\\0\\end{matrix}\\right], \\quad \\left[\\begin{matrix}0\\\\0\\\\1\\end{matrix}\\right]\\right ], \\quad \\left[\\begin{matrix}i\\\\1\\\\0\\end{matrix}\\right]\\right ]$$",
            "text/plain": [
              "⎡⎡⎡-ⅈ⎤  ⎡0⎤⎤  ⎡ⅈ⎤⎤\n",
              "⎢⎢⎢  ⎥  ⎢ ⎥⎥  ⎢ ⎥⎥\n",
              "⎢⎢⎢1 ⎥, ⎢0⎥⎥, ⎢1⎥⎥\n",
              "⎢⎢⎢  ⎥  ⎢ ⎥⎥  ⎢ ⎥⎥\n",
              "⎣⎣⎣0 ⎦  ⎣1⎦⎦  ⎣0⎦⎦"
            ]
          },
          "metadata": {
            "tags": []
          },
          "execution_count": 116
        }
      ]
    },
    {
      "cell_type": "code",
      "metadata": {
        "id": "Tz2VzSBetDNk",
        "outputId": "692b735d-e107-4ae6-dbbc-6ba8fc696069",
        "colab": {
          "base_uri": "https://localhost:8080/"
        }
      },
      "source": [
        "H*H_vecp[1] == E_0*H_vecp[1]"
      ],
      "execution_count": 117,
      "outputs": [
        {
          "output_type": "execute_result",
          "data": {
            "text/plain": [
              "True"
            ]
          },
          "metadata": {
            "tags": []
          },
          "execution_count": 117
        }
      ]
    },
    {
      "cell_type": "code",
      "metadata": {
        "id": "Kk8T_wU8tGbu",
        "outputId": "cd28da56-fe15-475a-b3b1-79528a46a723",
        "colab": {
          "base_uri": "https://localhost:8080/",
          "height": 88
        }
      },
      "source": [
        "ket = 1/sp.sqrt(5)*sp.Matrix([1-sp.I,1-sp.I,1])\n",
        "ket\n"
      ],
      "execution_count": 118,
      "outputs": [
        {
          "output_type": "execute_result",
          "data": {
            "text/latex": "$$\\left[\\begin{matrix}\\frac{\\sqrt{5}}{5} \\left(1 - i\\right)\\\\\\frac{\\sqrt{5}}{5} \\left(1 - i\\right)\\\\\\frac{\\sqrt{5}}{5}\\end{matrix}\\right]$$",
            "text/plain": [
              "⎡√5⋅(1 - ⅈ)⎤\n",
              "⎢──────────⎥\n",
              "⎢    5     ⎥\n",
              "⎢          ⎥\n",
              "⎢√5⋅(1 - ⅈ)⎥\n",
              "⎢──────────⎥\n",
              "⎢    5     ⎥\n",
              "⎢          ⎥\n",
              "⎢    √5    ⎥\n",
              "⎢    ──    ⎥\n",
              "⎣    5     ⎦"
            ]
          },
          "metadata": {
            "tags": []
          },
          "execution_count": 118
        }
      ]
    },
    {
      "cell_type": "code",
      "metadata": {
        "id": "61A7wg-XtKAL",
        "outputId": "50466ca9-bec7-4fd0-9b97-7c2896b5619e",
        "colab": {
          "base_uri": "https://localhost:8080/",
          "height": 47
        }
      },
      "source": [
        "bra = Dagger(ket)\n",
        "bra"
      ],
      "execution_count": 119,
      "outputs": [
        {
          "output_type": "execute_result",
          "data": {
            "text/latex": "$$\\left[\\begin{matrix}\\frac{\\sqrt{5}}{5} \\left(1 + i\\right) & \\frac{\\sqrt{5}}{5} \\left(1 + i\\right) & \\frac{\\sqrt{5}}{5}\\end{matrix}\\right]$$",
            "text/plain": [
              "⎡√5⋅(1 + ⅈ)  √5⋅(1 + ⅈ)  √5⎤\n",
              "⎢──────────  ──────────  ──⎥\n",
              "⎣    5           5       5 ⎦"
            ]
          },
          "metadata": {
            "tags": []
          },
          "execution_count": 119
        }
      ]
    },
    {
      "cell_type": "code",
      "metadata": {
        "id": "vJ-o4XFbtNVr",
        "outputId": "51334720-a9aa-4adb-c0fd-aa00bdccb098",
        "colab": {
          "base_uri": "https://localhost:8080/",
          "height": 38
        }
      },
      "source": [
        "sp.simplify(bra*ket)"
      ],
      "execution_count": 120,
      "outputs": [
        {
          "output_type": "execute_result",
          "data": {
            "text/latex": "$$\\left[\\begin{matrix}1\\end{matrix}\\right]$$",
            "text/plain": [
              "[1]"
            ]
          },
          "metadata": {
            "tags": []
          },
          "execution_count": 120
        }
      ]
    },
    {
      "cell_type": "code",
      "metadata": {
        "id": "E4GKDeUgtQWv",
        "outputId": "810932d8-4236-416d-c85e-3a41191afb49",
        "colab": {
          "base_uri": "https://localhost:8080/",
          "height": 38
        }
      },
      "source": [
        "bra*H*ket"
      ],
      "execution_count": 121,
      "outputs": [
        {
          "output_type": "execute_result",
          "data": {
            "text/latex": "$$\\left[\\begin{matrix}- \\frac{E_{0}}{5}\\end{matrix}\\right]$$",
            "text/plain": [
              "⎡-E₀ ⎤\n",
              "⎢────⎥\n",
              "⎣ 5  ⎦"
            ]
          },
          "metadata": {
            "tags": []
          },
          "execution_count": 121
        }
      ]
    },
    {
      "cell_type": "markdown",
      "metadata": {
        "id": "eE7jw9fGfsiK"
      },
      "source": [
        "NUMERICA"
      ]
    },
    {
      "cell_type": "code",
      "metadata": {
        "id": "4YZ8E7WVdVtG",
        "outputId": "e0b0ca69-5a1e-4bf6-bf47-a423bf0db353",
        "colab": {
          "base_uri": "https://localhost:8080/"
        }
      },
      "source": [
        "A_num = np.array([[-2, -4, 2], \n",
        "                  [-2, 1, 2],\n",
        "                  [4, 2, 5]])\n",
        "\n",
        "A_num"
      ],
      "execution_count": 122,
      "outputs": [
        {
          "output_type": "execute_result",
          "data": {
            "text/plain": [
              "array([[-2, -4,  2],\n",
              "       [-2,  1,  2],\n",
              "       [ 4,  2,  5]])"
            ]
          },
          "metadata": {
            "tags": []
          },
          "execution_count": 122
        }
      ]
    },
    {
      "cell_type": "code",
      "metadata": {
        "id": "uPsxJvIjdX-t",
        "outputId": "f8166361-23f6-4c5a-dce9-1229f3649a33",
        "colab": {
          "base_uri": "https://localhost:8080/"
        }
      },
      "source": [
        "B_num = np.array([[1, 4, 3],\n",
        "                  [0, -1, 2], \n",
        "                  [1, 2, 5]])\n",
        "\n",
        "B_num"
      ],
      "execution_count": 91,
      "outputs": [
        {
          "output_type": "execute_result",
          "data": {
            "text/plain": [
              "array([[ 1,  4,  3],\n",
              "       [ 0, -1,  2],\n",
              "       [ 1,  2,  5]])"
            ]
          },
          "metadata": {
            "tags": []
          },
          "execution_count": 91
        }
      ]
    },
    {
      "cell_type": "code",
      "metadata": {
        "id": "GYY7m7yHdavl",
        "outputId": "01108cb9-e335-4dde-f3cc-72320f801941",
        "colab": {
          "base_uri": "https://localhost:8080/"
        }
      },
      "source": [
        "\n",
        "A_num + B_num"
      ],
      "execution_count": 92,
      "outputs": [
        {
          "output_type": "execute_result",
          "data": {
            "text/plain": [
              "array([[-1,  0,  5],\n",
              "       [-2,  0,  4],\n",
              "       [ 5,  4, 10]])"
            ]
          },
          "metadata": {
            "tags": []
          },
          "execution_count": 92
        }
      ]
    },
    {
      "cell_type": "code",
      "metadata": {
        "id": "LDJK3-13dgWp",
        "outputId": "cd6294f8-d854-47d4-9981-03c39aaba64c",
        "colab": {
          "base_uri": "https://localhost:8080/"
        }
      },
      "source": [
        "A_num*B_num"
      ],
      "execution_count": 93,
      "outputs": [
        {
          "output_type": "execute_result",
          "data": {
            "text/plain": [
              "array([[ -2, -16,   6],\n",
              "       [  0,  -1,   4],\n",
              "       [  4,   4,  25]])"
            ]
          },
          "metadata": {
            "tags": []
          },
          "execution_count": 93
        }
      ]
    },
    {
      "cell_type": "code",
      "metadata": {
        "id": "lhPzuJGydi9K",
        "outputId": "1ec50137-0112-4af2-e531-1c53afaed6e3",
        "colab": {
          "base_uri": "https://localhost:8080/"
        }
      },
      "source": [
        "np.dot(A_num, B_num)"
      ],
      "execution_count": 94,
      "outputs": [
        {
          "output_type": "execute_result",
          "data": {
            "text/plain": [
              "array([[ 0,  0, -4],\n",
              "       [ 0, -5,  6],\n",
              "       [ 9, 24, 41]])"
            ]
          },
          "metadata": {
            "tags": []
          },
          "execution_count": 94
        }
      ]
    },
    {
      "cell_type": "code",
      "metadata": {
        "id": "YoVOyW3Vdlk0",
        "outputId": "aa4a7a69-8433-40e5-f81c-e7ad2c043c17",
        "colab": {
          "base_uri": "https://localhost:8080/"
        }
      },
      "source": [
        "np.linalg.det(A_num)"
      ],
      "execution_count": 95,
      "outputs": [
        {
          "output_type": "execute_result",
          "data": {
            "text/plain": [
              "-90.0"
            ]
          },
          "metadata": {
            "tags": []
          },
          "execution_count": 95
        }
      ]
    },
    {
      "cell_type": "code",
      "metadata": {
        "id": "sVQhIR6edn_t",
        "outputId": "7fea09b3-3361-4bcd-bd66-b94220572ff8",
        "colab": {
          "base_uri": "https://localhost:8080/"
        }
      },
      "source": [
        "np.linalg.inv(A_num)"
      ],
      "execution_count": 96,
      "outputs": [
        {
          "output_type": "execute_result",
          "data": {
            "text/plain": [
              "array([[-0.01111111, -0.26666667,  0.11111111],\n",
              "       [-0.2       ,  0.2       , -0.        ],\n",
              "       [ 0.08888889,  0.13333333,  0.11111111]])"
            ]
          },
          "metadata": {
            "tags": []
          },
          "execution_count": 96
        }
      ]
    },
    {
      "cell_type": "code",
      "metadata": {
        "id": "utE3UEOPdqXF",
        "outputId": "a3f14fb6-7826-42e1-f5f7-029e1e1e8975",
        "colab": {
          "base_uri": "https://localhost:8080/"
        }
      },
      "source": [
        "np.linalg.eig(A_num)"
      ],
      "execution_count": 97,
      "outputs": [
        {
          "output_type": "execute_result",
          "data": {
            "text/plain": [
              "(array([-5.,  3.,  6.]), array([[ 0.81649658,  0.53452248,  0.05842062],\n",
              "        [ 0.40824829, -0.80178373,  0.35052374],\n",
              "        [-0.40824829, -0.26726124,  0.93472998]]))"
            ]
          },
          "metadata": {
            "tags": []
          },
          "execution_count": 97
        }
      ]
    },
    {
      "cell_type": "markdown",
      "metadata": {
        "id": "qn4P9nX8j3Vy"
      },
      "source": [
        "\n",
        "\n",
        "### Problema 4:"
      ]
    },
    {
      "cell_type": "markdown",
      "metadata": {
        "id": "uyk46SRPj3Vy"
      },
      "source": [
        "Buscar datos que sean de su interés$^1$, realizar la limpieza y exploración de datos. Usando Pandas y  Matplotlib como librerías principales. Ver: [Taller 3](https://www.youtube.com/watch?v=XtTgRYnEJJE&t=833s&ab_channel=PythonClubforPhysicists)\n",
        "\n",
        "También puede buscar sus datos en [Kaggle](https://www.kaggle.com/)\n",
        "\n",
        "*1. puede usar cualquier fuente (siempre y cuando adjunte sus datos)*"
      ]
    }
  ]
}